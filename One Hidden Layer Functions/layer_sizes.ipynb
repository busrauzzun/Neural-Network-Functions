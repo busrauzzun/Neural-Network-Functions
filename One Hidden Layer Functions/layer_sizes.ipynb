{
 "cells": [
  {
   "cell_type": "code",
   "execution_count": null,
   "metadata": {},
   "outputs": [],
   "source": [
    "def layer_sizes(X,Y):\n",
    "    #X is input dataset.\n",
    "    #Y is output dataset.\n",
    "\n",
    "    \"\"\"\"\"\n",
    "    n_x -- the size of the input layer\n",
    "    n_h -- the size of the hidden layer\n",
    "    n_y -- the size of the output layer\n",
    "    \"\"\"\n",
    "\n",
    "    n_x=X.shape[0]  #X.shape is (2, 400).\n",
    "    n_h=4                               #We have 400 training examples (m).\n",
    "    n_y=Y.shape[0]  #Y.shape is (1, 400).\n",
    "\n",
    "    return n_x,n_h,n_y\n",
    "\n"
   ]
  }
 ],
 "metadata": {
  "language_info": {
   "name": "python"
  },
  "orig_nbformat": 4
 },
 "nbformat": 4,
 "nbformat_minor": 2
}
